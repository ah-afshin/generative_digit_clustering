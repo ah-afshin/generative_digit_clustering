{
 "cells": [
  {
   "cell_type": "markdown",
   "id": "5058d5d9",
   "metadata": {},
   "source": [
    "# Tune DBSCAN parameters"
   ]
  },
  {
   "cell_type": "code",
   "execution_count": 15,
   "id": "3fc5fff9",
   "metadata": {},
   "outputs": [],
   "source": [
    "import torch as t\n",
    "import numpy as np\n",
    "import matplotlib.pyplot as plt\n",
    "from sklearn.neighbors import NearestNeighbors"
   ]
  },
  {
   "cell_type": "code",
   "execution_count": 4,
   "id": "88e7c250",
   "metadata": {},
   "outputs": [],
   "source": [
    "import sys\n",
    "sys.path.append('..')"
   ]
  },
  {
   "cell_type": "markdown",
   "id": "72a71502",
   "metadata": {},
   "source": [
    "## plot k-distance"
   ]
  },
  {
   "cell_type": "code",
   "execution_count": 1,
   "id": "2d84f69a",
   "metadata": {},
   "outputs": [
    {
     "data": {
      "text/plain": [
       "'from sklearn.neighbors import NearestNeighbors\\nimport numpy as np\\n\\nX = embeddings_np\\nk = 5  # یا هر min_samples که در نظر داری\\nnbrs = NearestNeighbors(n_neighbors=k).fit(X)\\ndistances, _ = nbrs.kneighbors(X)\\nd_k = np.sort(distances[:, k-1])\\nplt.plot(d_k); plt.ylabel(\"k-NN distance\"); plt.xlabel(\"Points sorted\"); plt.show()\\n'"
      ]
     },
     "execution_count": 1,
     "metadata": {},
     "output_type": "execute_result"
    }
   ],
   "source": [
    "\"\"\"from sklearn.neighbors import NearestNeighbors\n",
    "import numpy as np\n",
    "\n",
    "X = embeddings_np\n",
    "k = 5  # یا هر min_samples که در نظر داری\n",
    "nbrs = NearestNeighbors(n_neighbors=k).fit(X)\n",
    "distances, _ = nbrs.kneighbors(X)\n",
    "d_k = np.sort(distances[:, k-1])\n",
    "plt.plot(d_k); plt.ylabel(\"k-NN distance\"); plt.xlabel(\"Points sorted\"); plt.show()\n",
    "\"\"\""
   ]
  },
  {
   "cell_type": "code",
   "execution_count": 6,
   "id": "0bdbb319",
   "metadata": {},
   "outputs": [
    {
     "name": "stderr",
     "output_type": "stream",
     "text": [
      "100.0%\n",
      "100.0%\n",
      "100.0%\n",
      "100.0%\n"
     ]
    }
   ],
   "source": [
    "from utils import extract_encodings\n",
    "from utils import get_data_loader\n",
    "from autoencoder import VAEMNIST\n",
    "\n",
    "model = VAEMNIST()\n",
    "model.load_state_dict(t.load(f=\"../models/vae_autoencoder_2.pth\"))\n",
    "_, test_dl = get_data_loader(32)\n",
    "encodec_vec, true_labels = extract_encodings(model, test_dl)"
   ]
  },
  {
   "cell_type": "code",
   "execution_count": 20,
   "id": "83a79a58",
   "metadata": {},
   "outputs": [],
   "source": [
    "X = encodec_vec\n",
    "k = 4\n",
    "\n",
    "nbrs = NearestNeighbors(n_neighbors=k).fit(X)\n",
    "distances, _ = nbrs.kneighbors(X)\n",
    "d_k = distances[:, k-1]\n"
   ]
  },
  {
   "cell_type": "code",
   "execution_count": 21,
   "id": "21f7e4cd",
   "metadata": {},
   "outputs": [
    {
     "data": {
      "image/png": "[encoded data removed]",
      "text/plain": [
       "<Figure size 640x480 with 1 Axes>"
      ]
     },
     "metadata": {},
     "output_type": "display_data"
    }
   ],
   "source": [
    "d_k_sorted = np.sort(d_k)\n",
    "plt.plot(d_k_sorted)\n",
    "plt.ylabel(f\"{k}-NN distance\")\n",
    "plt.xlabel(\"Points sorted\")\n",
    "plt.title(\"k‑Distance Graph\")\n",
    "plt.show()\n"
   ]
  },
  {
   "cell_type": "markdown",
   "id": "4ed57841",
   "metadata": {},
   "source": [
    "## DBSCAN grid search"
   ]
  },
  {
   "cell_type": "code",
   "execution_count": null,
   "id": "b8a14c31",
   "metadata": {},
   "outputs": [
    {
     "name": "stdout",
     "output_type": "stream",
     "text": [
      "Best Silhouette: -1\n",
      "Best (eps, min_samples): None\n"
     ]
    }
   ],
   "source": [
    "from sklearn.cluster import DBSCAN\n",
    "from sklearn.metrics import silhouette_score\n",
    "\n",
    "best_score = -1\n",
    "best_params = None\n",
    "\n",
    "eps_values = np.linspace(0.5, 5.0, 10)      # initialized with arbitrary values\n",
    "min_samp_values = [3, 5, 10, 20]\n",
    "\n",
    "for eps in eps_values:\n",
    "    for ms in min_samp_values:\n",
    "        db = DBSCAN(eps=eps, min_samples=ms).fit(X)\n",
    "        labels = db.labels_\n",
    "\n",
    "        if len(set(labels)) > 1 and -1 not in set(labels):\n",
    "            score = silhouette_score(X, labels)\n",
    "            if score > best_score:\n",
    "                best_score = score\n",
    "                best_params = (eps, ms)\n",
    "\n",
    "print(\"Best Silhouette:\", best_score)\n",
    "print(\"Best (eps, min_samples):\", best_params)\n"
   ]
  },
  {
   "cell_type": "code",
   "execution_count": null,
   "id": "56767c52",
   "metadata": {},
   "outputs": [],
   "source": []
  }
 ],
 "metadata": {
  "kernelspec": {
   "display_name": "venv",
   "language": "python",
   "name": "python3"
  },
  "language_info": {
   "codemirror_mode": {
    "name": "ipython",
    "version": 3
   },
   "file_extension": ".py",
   "mimetype": "text/x-python",
   "name": "python",
   "nbconvert_exporter": "python",
   "pygments_lexer": "ipython3",
   "version": "3.13.2"
  }
 },
 "nbformat": 4,
 "nbformat_minor": 5
}
